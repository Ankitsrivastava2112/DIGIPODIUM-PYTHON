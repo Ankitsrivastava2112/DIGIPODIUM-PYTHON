{
 "cells": [
  {
   "cell_type": "code",
   "execution_count": 13,
   "metadata": {},
   "outputs": [],
   "source": [
    "book ={'title':'Avenger',\n",
    "       'author':'Wink tylor',\n",
    "       'pages':1200,\n",
    "       'price':'$50.12',\n",
    "       'publisher':'tor books',\n",
    "       'type':'hardcover',\n",
    "       'genre':'fantasy'}"
   ]
  },
  {
   "cell_type": "code",
   "execution_count": 14,
   "metadata": {},
   "outputs": [
    {
     "data": {
      "text/plain": [
       "'Avenger'"
      ]
     },
     "execution_count": 14,
     "metadata": {},
     "output_type": "execute_result"
    }
   ],
   "source": [
    "book['title']"
   ]
  },
  {
   "cell_type": "code",
   "execution_count": 15,
   "metadata": {},
   "outputs": [
    {
     "data": {
      "text/plain": [
       "'tor books'"
      ]
     },
     "execution_count": 15,
     "metadata": {},
     "output_type": "execute_result"
    }
   ],
   "source": [
    "key = 'publisher'\n",
    "book[key]"
   ]
  },
  {
   "cell_type": "code",
   "execution_count": 16,
   "metadata": {},
   "outputs": [
    {
     "data": {
      "text/plain": [
       "'$100'"
      ]
     },
     "execution_count": 16,
     "metadata": {},
     "output_type": "execute_result"
    }
   ],
   "source": [
    "book['price'] = '$100'\n",
    "book['price']"
   ]
  },
  {
   "cell_type": "code",
   "execution_count": 17,
   "metadata": {},
   "outputs": [],
   "source": [
    "book['rating'] = 4.3"
   ]
  },
  {
   "cell_type": "code",
   "execution_count": 18,
   "metadata": {},
   "outputs": [
    {
     "data": {
      "text/plain": [
       "{'title': 'Avenger',\n",
       " 'author': 'Wink tylor',\n",
       " 'pages': 1200,\n",
       " 'price': '$100',\n",
       " 'publisher': 'tor books',\n",
       " 'type': 'hardcover',\n",
       " 'genre': 'fantasy',\n",
       " 'rating': 4.3}"
      ]
     },
     "execution_count": 18,
     "metadata": {},
     "output_type": "execute_result"
    }
   ],
   "source": [
    "book"
   ]
  },
  {
   "cell_type": "code",
   "execution_count": 19,
   "metadata": {},
   "outputs": [
    {
     "data": {
      "text/plain": [
       "['title', 'author', 'pages', 'price', 'publisher', 'type', 'genre', 'rating']"
      ]
     },
     "execution_count": 19,
     "metadata": {},
     "output_type": "execute_result"
    }
   ],
   "source": [
    "list(book.keys())"
   ]
  },
  {
   "cell_type": "code",
   "execution_count": 20,
   "metadata": {},
   "outputs": [
    {
     "data": {
      "text/plain": [
       "['Avenger',\n",
       " 'Wink tylor',\n",
       " 1200,\n",
       " '$100',\n",
       " 'tor books',\n",
       " 'hardcover',\n",
       " 'fantasy',\n",
       " 4.3]"
      ]
     },
     "execution_count": 20,
     "metadata": {},
     "output_type": "execute_result"
    }
   ],
   "source": [
    "list(book.values())"
   ]
  },
  {
   "cell_type": "code",
   "execution_count": 21,
   "metadata": {},
   "outputs": [
    {
     "data": {
      "text/plain": [
       "[('title', 'Avenger'),\n",
       " ('author', 'Wink tylor'),\n",
       " ('pages', 1200),\n",
       " ('price', '$100'),\n",
       " ('publisher', 'tor books'),\n",
       " ('type', 'hardcover'),\n",
       " ('genre', 'fantasy'),\n",
       " ('rating', 4.3)]"
      ]
     },
     "execution_count": 21,
     "metadata": {},
     "output_type": "execute_result"
    }
   ],
   "source": [
    "list(book.items())"
   ]
  },
  {
   "cell_type": "code",
   "execution_count": 22,
   "metadata": {},
   "outputs": [
    {
     "name": "stdout",
     "output_type": "stream",
     "text": [
      "title\n",
      "author\n",
      "pages\n",
      "price\n",
      "publisher\n",
      "type\n",
      "genre\n",
      "rating\n"
     ]
    }
   ],
   "source": [
    "# normal loop\n",
    "for i in book:\n",
    "    print(i)"
   ]
  },
  {
   "cell_type": "code",
   "execution_count": 23,
   "metadata": {},
   "outputs": [
    {
     "name": "stdout",
     "output_type": "stream",
     "text": [
      "title Avenger\n",
      "author Wink tylor\n",
      "pages 1200\n",
      "price $100\n",
      "publisher tor books\n",
      "type hardcover\n",
      "genre fantasy\n",
      "rating 4.3\n"
     ]
    }
   ],
   "source": [
    "#loop to get both keys and values\n",
    "for i in book:\n",
    "    print(i, book[i])"
   ]
  },
  {
   "cell_type": "code",
   "execution_count": 24,
   "metadata": {},
   "outputs": [
    {
     "name": "stdout",
     "output_type": "stream",
     "text": [
      "title Avenger\n",
      "author Wink tylor\n",
      "pages 1200\n",
      "price $100\n",
      "publisher tor books\n",
      "type hardcover\n",
      "genre fantasy\n",
      "rating 4.3\n"
     ]
    }
   ],
   "source": [
    "for k,v in book.items():\n",
    "    print(k,v)\n"
   ]
  },
  {
   "cell_type": "code",
   "execution_count": 25,
   "metadata": {},
   "outputs": [
    {
     "name": "stdout",
     "output_type": "stream",
     "text": [
      "{'name': 'ankit', 'DOB': '21/12/2001', 'email': 'ankitsrivastava21122001@gmail.com', 'password': 'hulk123'}\n"
     ]
    }
   ],
   "source": [
    "#user input\n",
    "userdata = {}\n",
    "userdata['name'] = input('Enter your name')\n",
    "userdata['DOB'] = input('Enter the D.O.B')\n",
    "userdata['email'] = input('Enter your email')\n",
    "userdata['password'] = input('Enter your password')\n",
    "print(userdata)"
   ]
  },
  {
   "cell_type": "code",
   "execution_count": 26,
   "metadata": {},
   "outputs": [],
   "source": [
    "#nested dictionary\n",
    "report = {'ankit': {\n",
    "           'english': 94,\n",
    "           'hindi': 81,\n",
    "           'maths': 85,\n",
    "           'physics': 83,\n",
    "           'chemistry': 71\n",
    "\n",
    "}\n",
    "}"
   ]
  },
  {
   "cell_type": "code",
   "execution_count": 27,
   "metadata": {},
   "outputs": [
    {
     "data": {
      "text/plain": [
       "85"
      ]
     },
     "execution_count": 27,
     "metadata": {},
     "output_type": "execute_result"
    }
   ],
   "source": [
    "report['ankit']['maths']"
   ]
  },
  {
   "cell_type": "code",
   "execution_count": 28,
   "metadata": {},
   "outputs": [
    {
     "name": "stdout",
     "output_type": "stream",
     "text": [
      "ankit {'english': 94, 'hindi': 81, 'maths': 85, 'physics': 83, 'chemistry': 71}\n"
     ]
    }
   ],
   "source": [
    "for k,v in report.items():\n",
    "    print(k,v)"
   ]
  },
  {
   "cell_type": "code",
   "execution_count": 29,
   "metadata": {},
   "outputs": [
    {
     "data": {
      "text/plain": [
       "'Wink tylor'"
      ]
     },
     "execution_count": 29,
     "metadata": {},
     "output_type": "execute_result"
    }
   ],
   "source": [
    "book.pop('author')"
   ]
  },
  {
   "cell_type": "code",
   "execution_count": 30,
   "metadata": {},
   "outputs": [
    {
     "data": {
      "text/plain": [
       "{'title': 'Avenger',\n",
       " 'pages': 1200,\n",
       " 'price': '$100',\n",
       " 'publisher': 'tor books',\n",
       " 'type': 'hardcover',\n",
       " 'genre': 'fantasy',\n",
       " 'rating': 4.3}"
      ]
     },
     "execution_count": 30,
     "metadata": {},
     "output_type": "execute_result"
    }
   ],
   "source": [
    "book"
   ]
  },
  {
   "cell_type": "code",
   "execution_count": 31,
   "metadata": {},
   "outputs": [
    {
     "data": {
      "text/plain": [
       "{1: 'Nikal', 2: 'Nikal', 3: 'Nikal', 4: 'Nikal'}"
      ]
     },
     "execution_count": 31,
     "metadata": {},
     "output_type": "execute_result"
    }
   ],
   "source": [
    "x = [1,2,3,4]\n",
    "dict.fromkeys(x, 'Nikal')"
   ]
  },
  {
   "cell_type": "code",
   "execution_count": null,
   "metadata": {},
   "outputs": [],
   "source": []
  }
 ],
 "metadata": {
  "kernelspec": {
   "display_name": "base",
   "language": "python",
   "name": "python3"
  },
  "language_info": {
   "codemirror_mode": {
    "name": "ipython",
    "version": 3
   },
   "file_extension": ".py",
   "mimetype": "text/x-python",
   "name": "python",
   "nbconvert_exporter": "python",
   "pygments_lexer": "ipython3",
   "version": "3.10.8"
  },
  "orig_nbformat": 4,
  "vscode": {
   "interpreter": {
    "hash": "e7e9cb53840e76e228697b34d7c9baee2cd9bda0b7dfb8a0c2956ee256e9cd4f"
   }
  }
 },
 "nbformat": 4,
 "nbformat_minor": 2
}
