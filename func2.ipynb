{
 "cells": [
  {
   "attachments": {},
   "cell_type": "markdown",
   "metadata": {},
   "source": [
    "parameters\n",
    "     - named parameters\n",
    "     - required paramters\n",
    "     - default parameters\n",
    "     - variables keyword argument parameters"
   ]
  },
  {
   "cell_type": "code",
   "execution_count": 6,
   "metadata": {},
   "outputs": [],
   "source": [
    "def burger(bread,cheese,veg,price):\n",
    "    return f'your burger has {bread} bread,{cheese} cheese, is veg {veg} and price is ${price}'"
   ]
  },
  {
   "cell_type": "code",
   "execution_count": 12,
   "metadata": {},
   "outputs": [
    {
     "data": {
      "text/plain": [
       "'your burger has wheat bread,cheddar cheese, is veg tomato and price is $100'"
      ]
     },
     "execution_count": 12,
     "metadata": {},
     "output_type": "execute_result"
    }
   ],
   "source": [
    "burger('wheat' ,'cheddar','tomato',100)"
   ]
  },
  {
   "cell_type": "code",
   "execution_count": 16,
   "metadata": {},
   "outputs": [
    {
     "data": {
      "text/plain": [
       "'your burger has cheesy bread,parmesan cheese, is veg Onion and price is $200'"
      ]
     },
     "execution_count": 16,
     "metadata": {},
     "output_type": "execute_result"
    }
   ],
   "source": [
    "burger(bread='cheesy', cheese='parmesan', veg='Onion', price=200)"
   ]
  },
  {
   "cell_type": "code",
   "execution_count": 28,
   "metadata": {},
   "outputs": [],
   "source": [
    "def total(x,y,z):\n",
    "    return x+y+z**5\n"
   ]
  },
  {
   "cell_type": "code",
   "execution_count": 29,
   "metadata": {},
   "outputs": [
    {
     "name": "stdout",
     "output_type": "stream",
     "text": [
      "1029\n",
      "3137\n"
     ]
    }
   ],
   "source": [
    "ans = total(x=2,y=3,z=4)\n",
    "print(ans)\n",
    "ans = total(y=2 ,z=5 ,x=10)\n",
    "print(ans)\n"
   ]
  },
  {
   "cell_type": "code",
   "execution_count": 30,
   "metadata": {},
   "outputs": [],
   "source": [
    "def total_z1(x,y,z=5):\n",
    "    return x+y+z*10"
   ]
  },
  {
   "cell_type": "code",
   "execution_count": 31,
   "metadata": {},
   "outputs": [
    {
     "data": {
      "text/plain": [
       "57"
      ]
     },
     "execution_count": 31,
     "metadata": {},
     "output_type": "execute_result"
    }
   ],
   "source": [
    "total_z1(3,4)"
   ]
  },
  {
   "cell_type": "code",
   "execution_count": 32,
   "metadata": {},
   "outputs": [
    {
     "data": {
      "text/plain": [
       "330"
      ]
     },
     "execution_count": 32,
     "metadata": {},
     "output_type": "execute_result"
    }
   ],
   "source": [
    "total_z1(10,20,30)"
   ]
  },
  {
   "cell_type": "code",
   "execution_count": 35,
   "metadata": {},
   "outputs": [],
   "source": [
    "def area(l=1,b=1):\n",
    "    return l * b"
   ]
  },
  {
   "cell_type": "code",
   "execution_count": 36,
   "metadata": {},
   "outputs": [
    {
     "name": "stdout",
     "output_type": "stream",
     "text": [
      "1\n",
      "10\n",
      "200\n"
     ]
    }
   ],
   "source": [
    "print(area())\n",
    "print(area(10))\n",
    "print(area(10,20))"
   ]
  },
  {
   "cell_type": "code",
   "execution_count": 53,
   "metadata": {},
   "outputs": [],
   "source": [
    "def greeting(name='guest'):\n",
    "    print('✌️'*5)\n",
    "    print(f'welcome || {name}')\n",
    "    print('☀️☀️good morning☀️☀️')\n",
    "    print('😊'*5)"
   ]
  },
  {
   "cell_type": "code",
   "execution_count": 54,
   "metadata": {},
   "outputs": [
    {
     "name": "stdout",
     "output_type": "stream",
     "text": [
      "✌️✌️✌️✌️✌️\n",
      "welcome || guest\n",
      "☀️☀️good morning☀️☀️\n",
      "😊😊😊😊😊\n"
     ]
    }
   ],
   "source": [
    "greeting()"
   ]
  },
  {
   "cell_type": "code",
   "execution_count": 55,
   "metadata": {},
   "outputs": [
    {
     "name": "stdout",
     "output_type": "stream",
     "text": [
      "✌️✌️✌️✌️✌️\n",
      "welcome || Ankit\n",
      "☀️☀️good morning☀️☀️\n",
      "😊😊😊😊😊\n"
     ]
    }
   ],
   "source": [
    "greeting('Ankit')"
   ]
  },
  {
   "cell_type": "code",
   "execution_count": 70,
   "metadata": {},
   "outputs": [],
   "source": [
    "def average(*numbers):\n",
    "    if len(numbers)>1:\n",
    "        return sum(numbers) / len(numbers)"
   ]
  },
  {
   "cell_type": "code",
   "execution_count": 71,
   "metadata": {},
   "outputs": [
    {
     "name": "stdout",
     "output_type": "stream",
     "text": [
      "None\n",
      "2874116004688.6665\n",
      "24.444444444444443\n"
     ]
    }
   ],
   "source": [
    "print(average(1))\n",
    "print(average(76543127635,8327969128763,217835757668))\n",
    "print(average(12,3,4,43,43,43,4,34,34))"
   ]
  },
  {
   "cell_type": "code",
   "execution_count": 84,
   "metadata": {},
   "outputs": [],
   "source": [
    "#Summit building\n",
    "def menu(**dishes):\n",
    "    for k,v in dishes.items():\n",
    "        print(f'✔️ {k:10}   ||   ${v:4}')"
   ]
  },
  {
   "cell_type": "code",
   "execution_count": 85,
   "metadata": {},
   "outputs": [
    {
     "name": "stdout",
     "output_type": "stream",
     "text": [
      "✔️ chat         ||   $ 100\n",
      "✔️ dosa         ||   $  50\n",
      "✔️ mutton       ||   $ 150\n",
      "✔️ pizza        ||   $ 200\n",
      "✔️ burger       ||   $  70\n",
      "✔️ soya_chaap   ||   $ 180\n"
     ]
    }
   ],
   "source": [
    "menu(chat=100,dosa=50,mutton=150,pizza=200,burger=70,soya_chaap=180)\n"
   ]
  },
  {
   "cell_type": "code",
   "execution_count": null,
   "metadata": {},
   "outputs": [],
   "source": []
  }
 ],
 "metadata": {
  "kernelspec": {
   "display_name": "base",
   "language": "python",
   "name": "python3"
  },
  "language_info": {
   "codemirror_mode": {
    "name": "ipython",
    "version": 3
   },
   "file_extension": ".py",
   "mimetype": "text/x-python",
   "name": "python",
   "nbconvert_exporter": "python",
   "pygments_lexer": "ipython3",
   "version": "3.10.8"
  },
  "orig_nbformat": 4,
  "vscode": {
   "interpreter": {
    "hash": "e7e9cb53840e76e228697b34d7c9baee2cd9bda0b7dfb8a0c2956ee256e9cd4f"
   }
  }
 },
 "nbformat": 4,
 "nbformat_minor": 2
}
