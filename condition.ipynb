{
 "cells": [
  {
   "cell_type": "code",
   "execution_count": 4,
   "metadata": {},
   "outputs": [
    {
     "name": "stdout",
     "output_type": "stream",
     "text": [
      "get lost\n"
     ]
    }
   ],
   "source": [
    "x=input(\"enter the number:\")\n",
    "if x.isnumeric():\n",
    "    print(\"good job\")\n",
    "else:\n",
    "    print(\"get lost\")\n"
   ]
  },
  {
   "cell_type": "code",
   "execution_count": 5,
   "metadata": {},
   "outputs": [
    {
     "name": "stdout",
     "output_type": "stream",
     "text": [
      "we have 2129809kg bananain store\n"
     ]
    }
   ],
   "source": [
    "x=2129809\n",
    "y=\"banana\"\n",
    "prc=20\n",
    "print(f\"we have {x}kg {y}in store\")"
   ]
  },
  {
   "cell_type": "code",
   "execution_count": 7,
   "metadata": {},
   "outputs": [
    {
     "name": "stdout",
     "output_type": "stream",
     "text": [
      "mango is 100/kg\n"
     ]
    }
   ],
   "source": [
    "fruit =input(\"enter fruit name:\")\n",
    "match fruit:\n",
    "    case \"apple\":\n",
    "        print(\"apple is 400/kg\")\n",
    "    case \"mango\":\n",
    "        print(\"mango is 100/kg\")\n",
    "    case _:\n",
    "        print(f\"{fruit} is not available\")       "
   ]
  }
 ],
 "metadata": {
  "kernelspec": {
   "display_name": "Python 3.10.8 ('base')",
   "language": "python",
   "name": "python3"
  },
  "language_info": {
   "codemirror_mode": {
    "name": "ipython",
    "version": 3
   },
   "file_extension": ".py",
   "mimetype": "text/x-python",
   "name": "python",
   "nbconvert_exporter": "python",
   "pygments_lexer": "ipython3",
   "version": "3.10.8"
  },
  "orig_nbformat": 4,
  "vscode": {
   "interpreter": {
    "hash": "e7e9cb53840e76e228697b34d7c9baee2cd9bda0b7dfb8a0c2956ee256e9cd4f"
   }
  }
 },
 "nbformat": 4,
 "nbformat_minor": 2
}
