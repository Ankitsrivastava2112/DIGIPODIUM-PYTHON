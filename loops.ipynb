{
 "cells": [
  {
   "cell_type": "code",
   "execution_count": 4,
   "metadata": {},
   "outputs": [
    {
     "name": "stdout",
     "output_type": "stream",
     "text": [
      "total apps = 15\n"
     ]
    }
   ],
   "source": [
    "apps=['bgmi','yt studio','instagram','winzo','snapchat','camera','trading','hotstar','contact','setting','snaptube','youtube','clock','chrome','powerdirector']\n",
    "\n",
    "print(f\"total apps = {len(apps)}\")"
   ]
  },
  {
   "cell_type": "code",
   "execution_count": 2,
   "metadata": {},
   "outputs": [
    {
     "name": "stdout",
     "output_type": "stream",
     "text": [
      "bgmi\n",
      "yt studio\n",
      "instagram\n",
      "winzo\n",
      "snapchat\n",
      "camera\n",
      "trading\n",
      "hotstar\n",
      "contact\n",
      "setting\n",
      "snaptube\n",
      "youtube\n",
      "clock\n",
      "chrome\n",
      "powerdirector\n"
     ]
    }
   ],
   "source": [
    "for app in apps:\n",
    "    print(app)"
   ]
  },
  {
   "cell_type": "code",
   "execution_count": 9,
   "metadata": {},
   "outputs": [
    {
     "name": "stdout",
     "output_type": "stream",
     "text": [
      "bgmi                 :          4\n",
      "yt studio            :          9\n",
      "instagram            :          9\n",
      "winzo                :          5\n",
      "snapchat             :          8\n",
      "camera               :          6\n",
      "trading              :          7\n",
      "hotstar              :          7\n",
      "contact              :          7\n",
      "setting              :          7\n",
      "snaptube             :          8\n",
      "youtube              :          7\n",
      "clock                :          5\n",
      "chrome               :          6\n",
      "powerdirector        :         13\n"
     ]
    }
   ],
   "source": [
    "for app in apps:\n",
    "    print(f'{app:20} : {len(app):10}')"
   ]
  },
  {
   "cell_type": "code",
   "execution_count": 10,
   "metadata": {},
   "outputs": [
    {
     "name": "stdout",
     "output_type": "stream",
     "text": [
      "instagram\n",
      "winzo\n",
      "snapchat\n",
      "trading\n",
      "contact\n",
      "setting\n",
      "snaptube\n"
     ]
    }
   ],
   "source": [
    "for app in apps:\n",
    "    if 'n' in app:\n",
    "        print(app)"
   ]
  },
  {
   "cell_type": "code",
   "execution_count": 16,
   "metadata": {},
   "outputs": [
    {
     "name": "stdout",
     "output_type": "stream",
     "text": [
      "snapchat\n",
      "setting\n",
      "snaptube\n"
     ]
    }
   ],
   "source": [
    "for app in apps:\n",
    "    if app.startswith('s'):\n",
    "        print(app)"
   ]
  },
  {
   "cell_type": "code",
   "execution_count": 17,
   "metadata": {},
   "outputs": [
    {
     "name": "stdout",
     "output_type": "stream",
     "text": [
      "trading\n",
      "setting\n"
     ]
    }
   ],
   "source": [
    "for app in apps:\n",
    "    if app.endswith(\"g\"):\n",
    "        print(app)"
   ]
  },
  {
   "cell_type": "code",
   "execution_count": 19,
   "metadata": {},
   "outputs": [
    {
     "name": "stdout",
     "output_type": "stream",
     "text": [
      "10\n",
      "20\n",
      "30\n",
      "40\n",
      "60\n",
      "70\n",
      "0\n"
     ]
    }
   ],
   "source": [
    "data = [10,20,30,40,50,60,70,0]\n",
    "for i in data:\n",
    "    if i == 50:\n",
    "        continue\n",
    "    print(i)"
   ]
  },
  {
   "cell_type": "code",
   "execution_count": 20,
   "metadata": {},
   "outputs": [
    {
     "name": "stdout",
     "output_type": "stream",
     "text": [
      "10\n",
      "20\n",
      "30\n"
     ]
    }
   ],
   "source": [
    "data = [10,20,30,40,50,60,70,80]\n",
    "for i in data:\n",
    "    if i == 40:\n",
    "        break\n",
    "    print(i)\n",
    "    "
   ]
  },
  {
   "cell_type": "code",
   "execution_count": 21,
   "metadata": {},
   "outputs": [
    {
     "name": "stdout",
     "output_type": "stream",
     "text": [
      "(0, 'bgmi')\n",
      "(1, 'yt studio')\n",
      "(2, 'instagram')\n",
      "(3, 'winzo')\n",
      "(4, 'snapchat')\n",
      "(5, 'camera')\n",
      "(6, 'trading')\n",
      "(7, 'hotstar')\n",
      "(8, 'contact')\n",
      "(9, 'setting')\n",
      "(10, 'snaptube')\n",
      "(11, 'youtube')\n",
      "(12, 'clock')\n",
      "(13, 'chrome')\n",
      "(14, 'powerdirector')\n"
     ]
    }
   ],
   "source": [
    "for app in enumerate(apps):\n",
    "    print(app)\n"
   ]
  },
  {
   "cell_type": "code",
   "execution_count": 22,
   "metadata": {},
   "outputs": [
    {
     "name": "stdout",
     "output_type": "stream",
     "text": [
      "0 bgmi\n",
      "1 yt studio\n",
      "2 instagram\n",
      "3 winzo\n",
      "4 snapchat\n",
      "5 camera\n",
      "6 trading\n",
      "7 hotstar\n",
      "8 contact\n",
      "9 setting\n",
      "10 snaptube\n",
      "11 youtube\n",
      "12 clock\n",
      "13 chrome\n",
      "14 powerdirector\n"
     ]
    }
   ],
   "source": [
    "for i,app in enumerate(apps):\n",
    "    print(i,app)"
   ]
  },
  {
   "cell_type": "code",
   "execution_count": 23,
   "metadata": {},
   "outputs": [
    {
     "name": "stdout",
     "output_type": "stream",
     "text": [
      "0 bgmi\n",
      "1 yt studio\n",
      "2 instagram\n",
      "3 winzo\n",
      "4 snapchat\n",
      "5 camera\n",
      "6 trading\n",
      "7 hotstar\n",
      "8 contact\n",
      "9 setting\n",
      "10 snaptube\n"
     ]
    }
   ],
   "source": [
    "for i,app in enumerate(apps):\n",
    "    if i > 10:\n",
    "        break\n",
    "    print(i,app)"
   ]
  },
  {
   "cell_type": "code",
   "execution_count": null,
   "metadata": {},
   "outputs": [],
   "source": []
  }
 ],
 "metadata": {
  "kernelspec": {
   "display_name": "base",
   "language": "python",
   "name": "python3"
  },
  "language_info": {
   "codemirror_mode": {
    "name": "ipython",
    "version": 3
   },
   "file_extension": ".py",
   "mimetype": "text/x-python",
   "name": "python",
   "nbconvert_exporter": "python",
   "pygments_lexer": "ipython3",
   "version": "3.10.8"
  },
  "orig_nbformat": 4,
  "vscode": {
   "interpreter": {
    "hash": "e7e9cb53840e76e228697b34d7c9baee2cd9bda0b7dfb8a0c2956ee256e9cd4f"
   }
  }
 },
 "nbformat": 4,
 "nbformat_minor": 2
}
