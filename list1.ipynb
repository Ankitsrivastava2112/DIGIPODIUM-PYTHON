{
 "cells": [
  {
   "cell_type": "code",
   "execution_count": 1,
   "metadata": {},
   "outputs": [],
   "source": [
    "x = []\n",
    "x2 = [1,2,3]\n",
    "x3 = [12,45,'Apple','Orange']\n",
    "x4 = ['ankit','rajan','baba']"
   ]
  },
  {
   "cell_type": "code",
   "execution_count": 2,
   "metadata": {},
   "outputs": [
    {
     "name": "stdout",
     "output_type": "stream",
     "text": [
      "[]\n",
      "[1, 2, 3]\n",
      "[12, 45, 'Apple', 'Orange']\n",
      "['ankit', 'rajan', 'baba']\n"
     ]
    }
   ],
   "source": [
    "print(x)\n",
    "print(x2)\n",
    "print(x3)\n",
    "print(x4)"
   ]
  },
  {
   "cell_type": "code",
   "execution_count": 3,
   "metadata": {},
   "outputs": [
    {
     "data": {
      "text/plain": [
       "[1, 1, 1, 1, 1]"
      ]
     },
     "execution_count": 3,
     "metadata": {},
     "output_type": "execute_result"
    }
   ],
   "source": [
    "y = [1]\n",
    "y*5"
   ]
  },
  {
   "cell_type": "code",
   "execution_count": 4,
   "metadata": {},
   "outputs": [
    {
     "data": {
      "text/plain": [
       "[1, 2, 3, 1, 2, 3, 1, 2, 3, 1, 2, 3, 1, 2, 3]"
      ]
     },
     "execution_count": 4,
     "metadata": {},
     "output_type": "execute_result"
    }
   ],
   "source": [
    "x2*5 "
   ]
  },
  {
   "cell_type": "code",
   "execution_count": 5,
   "metadata": {},
   "outputs": [
    {
     "data": {
      "text/plain": [
       "['ankit', 'rajan', 'baba', 1, 2, 3]"
      ]
     },
     "execution_count": 5,
     "metadata": {},
     "output_type": "execute_result"
    }
   ],
   "source": [
    "x4 + x2"
   ]
  },
  {
   "cell_type": "code",
   "execution_count": 6,
   "metadata": {},
   "outputs": [],
   "source": [
    "Hollywood_movies = ['fast and furious','avenger','God of War','Wrong turn','Wakanda Forever']\n",
    "Bollywood_movies = ['Dilwale','Student of the year','Diljale','Ek villian','RRR']"
   ]
  },
  {
   "cell_type": "code",
   "execution_count": 7,
   "metadata": {},
   "outputs": [
    {
     "name": "stdout",
     "output_type": "stream",
     "text": [
      "['fast and furious', 'avenger', 'God of War', 'Wrong turn', 'Wakanda Forever', 'Dilwale', 'Student of the year', 'Diljale', 'Ek villian', 'RRR']\n"
     ]
    }
   ],
   "source": [
    "all_movies = Hollywood_movies + Bollywood_movies\n",
    "print(all_movies)"
   ]
  },
  {
   "cell_type": "code",
   "execution_count": 8,
   "metadata": {},
   "outputs": [
    {
     "name": "stdout",
     "output_type": "stream",
     "text": [
      "['fast and furious', 'avenger', 'God of War', 'Wrong turn', 'Wakanda Forever', 'Dilwale', 'Student of the year', 'Diljale', 'Ek villian', 'RRR', 'troll 2', 'Thor Love and Thunder']\n"
     ]
    }
   ],
   "source": [
    "all_movies.append('troll 2')\n",
    "all_movies.append('Thor Love and Thunder')\n",
    "print(all_movies)\n"
   ]
  },
  {
   "cell_type": "code",
   "execution_count": 9,
   "metadata": {},
   "outputs": [
    {
     "name": "stdout",
     "output_type": "stream",
     "text": [
      "['fast and furious', 'avenger', 'Avenger civil War', 'God of War', 'Wrong turn', 'Wakanda Forever', 'Dilwale', 'Student of the year', 'Diljale', 'Ek villian', 'RRR', 'troll 2', 'Thor Love and Thunder']\n"
     ]
    }
   ],
   "source": [
    "all_movies.insert(2,'Avenger civil War')\n",
    "print(all_movies)"
   ]
  },
  {
   "cell_type": "code",
   "execution_count": 10,
   "metadata": {},
   "outputs": [
    {
     "data": {
      "text/plain": [
       "13"
      ]
     },
     "execution_count": 10,
     "metadata": {},
     "output_type": "execute_result"
    }
   ],
   "source": [
    "len(all_movies)"
   ]
  },
  {
   "cell_type": "code",
   "execution_count": 11,
   "metadata": {},
   "outputs": [
    {
     "name": "stdout",
     "output_type": "stream",
     "text": [
      "['fast and furious', 'avenger', 'Avenger civil War', 'God of War', 'Wrong turn', 'Wakanda Forever', 'Dilwale', 'Student of the year', 'Diljale', 'Ek villian', 'RRR', 'troll 2', 'Thor Love and Thunder', 'fast x']\n"
     ]
    }
   ],
   "source": [
    "sequels = ['fast x']\n",
    "all_movies.extend(sequels)\n",
    "print(all_movies)"
   ]
  },
  {
   "cell_type": "code",
   "execution_count": 12,
   "metadata": {},
   "outputs": [
    {
     "data": {
      "text/plain": [
       "['fast and furious',\n",
       " 'avenger',\n",
       " 'Avenger civil War',\n",
       " 'God of War',\n",
       " 'Wrong turn']"
      ]
     },
     "execution_count": 12,
     "metadata": {},
     "output_type": "execute_result"
    }
   ],
   "source": [
    "all_movies[:5]"
   ]
  },
  {
   "cell_type": "code",
   "execution_count": 13,
   "metadata": {},
   "outputs": [
    {
     "data": {
      "text/plain": [
       "['Ek villian', 'RRR', 'troll 2', 'Thor Love and Thunder', 'fast x']"
      ]
     },
     "execution_count": 13,
     "metadata": {},
     "output_type": "execute_result"
    }
   ],
   "source": [
    "all_movies[-5:]"
   ]
  },
  {
   "cell_type": "code",
   "execution_count": 14,
   "metadata": {},
   "outputs": [
    {
     "name": "stdout",
     "output_type": "stream",
     "text": [
      "['fast and furious', 'avenger', 'Avenger civil War', 'Shehulk', 'Wrong turn', 'Wakanda Forever', 'Dilwale', 'Student of the year', 'Diljale', 'Ek villian', 'RRR', 'troll 2', 'Thor Love and Thunder', 'fast x']\n"
     ]
    }
   ],
   "source": [
    "all_movies[3] = 'Shehulk'\n",
    "print(all_movies)"
   ]
  },
  {
   "cell_type": "code",
   "execution_count": 15,
   "metadata": {},
   "outputs": [
    {
     "name": "stdout",
     "output_type": "stream",
     "text": [
      "['fast x', 'Thor Love and Thunder', 'troll 2', 'RRR', 'Ek villian', 'Diljale', 'Student of the year', 'Dilwale', 'Wakanda Forever', 'Wrong turn', 'Shehulk', 'Avenger civil War', 'avenger', 'fast and furious']\n"
     ]
    }
   ],
   "source": [
    "all_movies.reverse()\n",
    "print(all_movies)"
   ]
  },
  {
   "cell_type": "code",
   "execution_count": 16,
   "metadata": {},
   "outputs": [
    {
     "name": "stdout",
     "output_type": "stream",
     "text": [
      "['Avenger civil War', 'Diljale', 'Dilwale', 'Ek villian', 'RRR', 'Shehulk', 'Student of the year', 'Thor Love and Thunder', 'Wakanda Forever', 'Wrong turn', 'avenger', 'fast and furious', 'fast x', 'troll 2']\n"
     ]
    }
   ],
   "source": [
    "all_movies.sort()\n",
    "print(all_movies)"
   ]
  },
  {
   "cell_type": "code",
   "execution_count": 17,
   "metadata": {},
   "outputs": [
    {
     "name": "stdout",
     "output_type": "stream",
     "text": [
      "['troll 2', 'fast x', 'fast and furious', 'avenger', 'Wrong turn', 'Wakanda Forever', 'Thor Love and Thunder', 'Student of the year', 'Shehulk', 'RRR', 'Ek villian', 'Dilwale', 'Diljale', 'Avenger civil War']\n"
     ]
    }
   ],
   "source": [
    "all_movies.sort(reverse=True)\n",
    "print(all_movies)"
   ]
  },
  {
   "cell_type": "code",
   "execution_count": 18,
   "metadata": {},
   "outputs": [],
   "source": [
    "import random as rnd"
   ]
  },
  {
   "cell_type": "code",
   "execution_count": 19,
   "metadata": {},
   "outputs": [
    {
     "name": "stdout",
     "output_type": "stream",
     "text": [
      "['avenger', 'Dilwale', 'Student of the year', 'troll 2', 'fast x', 'RRR', 'fast and furious', 'Avenger civil War', 'Thor Love and Thunder', 'Ek villian', 'Shehulk', 'Diljale', 'Wakanda Forever', 'Wrong turn']\n"
     ]
    }
   ],
   "source": [
    "rnd.shuffle(all_movies)\n",
    "print(all_movies)"
   ]
  },
  {
   "cell_type": "code",
   "execution_count": 23,
   "metadata": {},
   "outputs": [
    {
     "data": {
      "text/plain": [
       "'Shehulk'"
      ]
     },
     "execution_count": 23,
     "metadata": {},
     "output_type": "execute_result"
    }
   ],
   "source": [
    "rnd.choice(all_movies)"
   ]
  },
  {
   "cell_type": "code",
   "execution_count": 27,
   "metadata": {},
   "outputs": [
    {
     "data": {
      "text/plain": [
       "['Thor Love and Thunder',\n",
       " 'Thor Love and Thunder',\n",
       " 'fast and furious',\n",
       " 'Dilwale',\n",
       " 'Avenger civil War']"
      ]
     },
     "execution_count": 27,
     "metadata": {},
     "output_type": "execute_result"
    }
   ],
   "source": [
    "rnd.choices(all_movies,k=5)"
   ]
  },
  {
   "cell_type": "code",
   "execution_count": 29,
   "metadata": {},
   "outputs": [
    {
     "data": {
      "text/plain": [
       "4"
      ]
     },
     "execution_count": 29,
     "metadata": {},
     "output_type": "execute_result"
    }
   ],
   "source": [
    "all_movies.index('fast x')"
   ]
  },
  {
   "cell_type": "code",
   "execution_count": 30,
   "metadata": {},
   "outputs": [
    {
     "data": {
      "text/plain": [
       "'Wrong turn'"
      ]
     },
     "execution_count": 30,
     "metadata": {},
     "output_type": "execute_result"
    }
   ],
   "source": [
    "all_movies.pop()"
   ]
  },
  {
   "cell_type": "code",
   "execution_count": 31,
   "metadata": {},
   "outputs": [
    {
     "data": {
      "text/plain": [
       "'troll 2'"
      ]
     },
     "execution_count": 31,
     "metadata": {},
     "output_type": "execute_result"
    }
   ],
   "source": [
    "all_movies.pop(3)"
   ]
  },
  {
   "cell_type": "code",
   "execution_count": 33,
   "metadata": {},
   "outputs": [
    {
     "name": "stdout",
     "output_type": "stream",
     "text": [
      "[100, 2, 200, 4, 5]\n",
      "[100, 2, 200, 4, 5]\n",
      "True\n"
     ]
    }
   ],
   "source": [
    "x = [1,2,3,4,5]\n",
    "y = x\n",
    "y[0] = 100\n",
    "x[2] = 200\n",
    "print(x)\n",
    "print(y)\n",
    "print(x is y)"
   ]
  },
  {
   "cell_type": "code",
   "execution_count": 36,
   "metadata": {},
   "outputs": [
    {
     "name": "stdout",
     "output_type": "stream",
     "text": [
      "[100, 2, 200, 4]\n",
      "[100, 2, 200, 4]\n",
      "[100, 2, 200, 4, 5, 10]\n",
      "True\n"
     ]
    }
   ],
   "source": [
    "z = x.copy()\n",
    "z.append(10)\n",
    "x.remove(5)\n",
    "print(x)\n",
    "print(y)\n",
    "print(z)\n",
    "print(x is y)"
   ]
  },
  {
   "cell_type": "code",
   "execution_count": null,
   "metadata": {},
   "outputs": [],
   "source": []
  }
 ],
 "metadata": {
  "kernelspec": {
   "display_name": "base",
   "language": "python",
   "name": "python3"
  },
  "language_info": {
   "codemirror_mode": {
    "name": "ipython",
    "version": 3
   },
   "file_extension": ".py",
   "mimetype": "text/x-python",
   "name": "python",
   "nbconvert_exporter": "python",
   "pygments_lexer": "ipython3",
   "version": "3.10.8"
  },
  "orig_nbformat": 4,
  "vscode": {
   "interpreter": {
    "hash": "e7e9cb53840e76e228697b34d7c9baee2cd9bda0b7dfb8a0c2956ee256e9cd4f"
   }
  }
 },
 "nbformat": 4,
 "nbformat_minor": 2
}
